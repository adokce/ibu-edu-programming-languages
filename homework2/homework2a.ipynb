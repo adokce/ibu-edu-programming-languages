{
 "cells": [
  {
   "cell_type": "code",
   "execution_count": 2,
   "metadata": {},
   "outputs": [
    {
     "data": {
      "text/plain": [
       "5"
      ]
     },
     "execution_count": 2,
     "metadata": {},
     "output_type": "execute_result"
    }
   ],
   "source": []
  },
  {
   "cell_type": "code",
   "execution_count": 96,
   "metadata": {},
   "outputs": [
    {
     "data": {
      "text/plain": [
       "array([[6, 2, 3, 5, 9, 9],\n",
       "       [9, 2, 7, 7, 9, 5],\n",
       "       [3, 4, 8, 3, 5, 1],\n",
       "       [9, 9, 8, 5, 9, 1]])"
      ]
     },
     "execution_count": 96,
     "metadata": {},
     "output_type": "execute_result"
    }
   ],
   "source": [
    "# Task #1:\n",
    "# Create a 2D numpy array containing random numbers in range 1 to 10 organized in 4 rows and 6 columns.\n",
    "\n",
    "import numpy as np\n",
    "arr1 = np.random.randint(low=1,high=10,size=(4,6))\n",
    "arr1\n"
   ]
  },
  {
   "cell_type": "code",
   "execution_count": 65,
   "metadata": {},
   "outputs": [
    {
     "data": {
      "text/plain": [
       "array([[7, 8, 7, 2, 7, 1],\n",
       "       [6, 7, 1, 8, 2, 6],\n",
       "       [3, 1, 6, 3, 7, 4],\n",
       "       [9, 2, 9, 6, 5, 2]])"
      ]
     },
     "execution_count": 65,
     "metadata": {},
     "output_type": "execute_result"
    }
   ],
   "source": [
    "# Task #2:\n",
    "# Find the mean value of the last 2 rows and last 3 columns of the array from Task 1.\n",
    "\n",
    "\n",
    "arr2 = arr1[-2:,-3:]\n",
    "arr2\n",
    "\n",
    "arr1\n"
   ]
  },
  {
   "cell_type": "code",
   "execution_count": 99,
   "metadata": {},
   "outputs": [
    {
     "ename": "ValueError",
     "evalue": "operands could not be broadcast together with shapes (4,) (4,) (4,6) ",
     "output_type": "error",
     "traceback": [
      "\u001b[0;31m---------------------------------------------------------------------------\u001b[0m",
      "\u001b[0;31mValueError\u001b[0m                                Traceback (most recent call last)",
      "\u001b[0;32m/tmp/ipykernel_542/1173763253.py\u001b[0m in \u001b[0;36m<module>\u001b[0;34m\u001b[0m\n\u001b[1;32m     16\u001b[0m \u001b[0mk\u001b[0m \u001b[0;34m=\u001b[0m \u001b[0marr1\u001b[0m\u001b[0;34m[\u001b[0m\u001b[0;34m:\u001b[0m\u001b[0;34m,\u001b[0m\u001b[0;36m1\u001b[0m\u001b[0;34m]\u001b[0m\u001b[0;34m\u001b[0m\u001b[0;34m\u001b[0m\u001b[0m\n\u001b[1;32m     17\u001b[0m \u001b[0;34m\u001b[0m\u001b[0m\n\u001b[0;32m---> 18\u001b[0;31m \u001b[0mresult\u001b[0m \u001b[0;34m=\u001b[0m \u001b[0mnp\u001b[0m\u001b[0;34m.\u001b[0m\u001b[0mwhere\u001b[0m\u001b[0;34m(\u001b[0m\u001b[0;34m(\u001b[0m\u001b[0mk\u001b[0m\u001b[0;34m>\u001b[0m\u001b[0;36m6\u001b[0m\u001b[0;34m)\u001b[0m \u001b[0;34m&\u001b[0m \u001b[0;34m(\u001b[0m\u001b[0mk\u001b[0m\u001b[0;34m<\u001b[0m\u001b[0;36m9\u001b[0m\u001b[0;34m)\u001b[0m\u001b[0;34m,\u001b[0m \u001b[0mnp\u001b[0m\u001b[0;34m.\u001b[0m\u001b[0mnegative\u001b[0m\u001b[0;34m(\u001b[0m\u001b[0mk\u001b[0m\u001b[0;34m)\u001b[0m\u001b[0;34m,\u001b[0m \u001b[0marr1\u001b[0m\u001b[0;34m)\u001b[0m\u001b[0;34m\u001b[0m\u001b[0;34m\u001b[0m\u001b[0m\n\u001b[0m\u001b[1;32m     19\u001b[0m \u001b[0;34m\u001b[0m\u001b[0m\n\u001b[1;32m     20\u001b[0m \u001b[0mresult\u001b[0m\u001b[0;34m\u001b[0m\u001b[0;34m\u001b[0m\u001b[0m\n",
      "\u001b[0;32m~/.local/lib/python3.8/site-packages/numpy/core/overrides.py\u001b[0m in \u001b[0;36mwhere\u001b[0;34m(*args, **kwargs)\u001b[0m\n",
      "\u001b[0;31mValueError\u001b[0m: operands could not be broadcast together with shapes (4,) (4,) (4,6) "
     ]
    }
   ],
   "source": [
    "# Task #3:\n",
    "# Negate elements in the 2nd column of the array from Task 1 \n",
    "# whose value is between 6-9, in place.\n",
    "\n",
    "# arr1c = arr1[:,1]\n",
    "# arr1c = arr1c[(arr1c<9) & (arr1c>6)]\n",
    "# arr1c = np.negative\n",
    "# arr1c bude array([-8, -7])\n",
    "\n",
    "# a = np.array([[1, 2, 3],\n",
    "#    [1, 2, 3],\n",
    "#    [1, 2, 3]])\n",
    "\n",
    "# np.where(a==2, 4, a)\n",
    "\n",
    "# k = arr1[:,1]\n",
    "\n",
    "# result = np.where((k>6) & (k<9), np.negative(k), arr1)\n",
    "\n",
    "# result\n",
    "# arr1[:,1]=arr1[:,1]\n",
    "# arr1\n"
   ]
  },
  {
   "cell_type": "code",
   "execution_count": null,
   "metadata": {},
   "outputs": [],
   "source": [
    "# Task #4:\n",
    "# Consider the following Python dictionary students and Python list student_ids:\n",
    "# students= { \n",
    "# ‘name’: [‘Harry’, ’Jack’, ’Charlie’, ’Thomas’, James’, ’Olivia’, ’Emily’, ’Jessica’, ’Oscar’, ’Mary’], \n",
    "# ‘grade’ : [5,6,9,7,10,8,6,7,9,8], \n",
    "# ‘attendance’ : [10,45,85,90,np.nan,87,30,np.nan,100,65], \n",
    "# ‘dl’ : [true,false,false,false,true,true,false,false,false,true]} \n",
    "\n",
    "\n",
    "# student_ids = [‘423’,’334’,’546’,’224’,’867’,’989’,’178’,’879’,’113’,’555’]\n",
    "\n",
    "\n",
    "# NOTE: “dl” stands for distance learning\n",
    "\n",
    "# a) Create a DataFrame df from this dictionary students which has the index student_ids.\n",
    "\n",
    "# b) Display a summary of the basic information about this DataFrame and its data.\n",
    "\n",
    "# c) Return the first 3 rows of the DataFrame df.\n",
    "\n",
    "# d) Select just grade and dl columns from df DataFrame.\n",
    "\n",
    "# e) Select the data in rows [5,7,9] and columns [grade, attendance].\n",
    "\n",
    "# f) Select rows where attendance is greater than 70.\n",
    "\n",
    "# g) Select the rows where the attendance is missing, i.e. is NaN.\n",
    "\n",
    "# j) Select distance learning students where the grade is greater than 7.\n",
    "\n",
    "# k) Find the mean grade and attendance of all students.\n",
    "\n",
    "# l) Find student with greatest grade and student with lowest attendance\n",
    "\n"
   ]
  },
  {
   "cell_type": "code",
   "execution_count": null,
   "metadata": {},
   "outputs": [],
   "source": [
    "# Task #5:\n",
    "# Using the random_text.txt file (available on LMS), write a program in Python for the following tasks:\n",
    "# Extract all phone numbers from the random text and add them to the list phoneNumbers.\n",
    "# Extract all emails with the “.com” extension and add them to the list emails. (ex. …@hotmail.com should be accepted, but …@ibu.edu.ba should be rejected)\n"
   ]
  }
 ],
 "metadata": {
  "interpreter": {
   "hash": "31f2aee4e71d21fbe5cf8b01ff0e069b9275f58929596ceb00d14d90e3e16cd6"
  },
  "kernelspec": {
   "display_name": "Python 3.8.10 64-bit",
   "language": "python",
   "name": "python3"
  },
  "language_info": {
   "codemirror_mode": {
    "name": "ipython",
    "version": 3
   },
   "file_extension": ".py",
   "mimetype": "text/x-python",
   "name": "python",
   "nbconvert_exporter": "python",
   "pygments_lexer": "ipython3",
   "version": "3.8.10"
  },
  "orig_nbformat": 4
 },
 "nbformat": 4,
 "nbformat_minor": 2
}
