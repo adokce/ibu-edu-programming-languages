{
 "cells": [
  {
   "cell_type": "code",
   "execution_count": 2,
   "metadata": {},
   "outputs": [
    {
     "data": {
      "text/plain": [
       "5"
      ]
     },
     "execution_count": 2,
     "metadata": {},
     "output_type": "execute_result"
    }
   ],
   "source": []
  },
  {
   "cell_type": "code",
   "execution_count": 19,
   "metadata": {},
   "outputs": [
    {
     "data": {
      "text/plain": [
       "array([[8, 1, 3, 8, 5, 5],\n",
       "       [5, 8, 1, 8, 9, 9],\n",
       "       [8, 6, 2, 9, 2, 7],\n",
       "       [8, 1, 1, 8, 2, 4]])"
      ]
     },
     "execution_count": 19,
     "metadata": {},
     "output_type": "execute_result"
    }
   ],
   "source": [
    "# Task #1:\n",
    "# Create a 2D numpy array containing random numbers in range 1 to 10 organized in 4 rows and 6 columns.\n",
    "\n",
    "import numpy as np\n",
    "arr1 = np.random.randint(low=1,high=10,size=(4,6))\n",
    "arr1"
   ]
  },
  {
   "cell_type": "code",
   "execution_count": 26,
   "metadata": {},
   "outputs": [
    {
     "data": {
      "text/plain": [
       "array([[8, 6, 2, 9, 2, 7]])"
      ]
     },
     "execution_count": 26,
     "metadata": {},
     "output_type": "execute_result"
    }
   ],
   "source": [
    "# Task #2:\n",
    "# Find the mean value of the last 2 rows and last 3 columns of the array from Task 1.\n",
    "arr1_last_2_rows = arr1[-2:]\n",
    "\n",
    "arr1_last_2_rows\n"
   ]
  },
  {
   "cell_type": "code",
   "execution_count": null,
   "metadata": {},
   "outputs": [],
   "source": [
    "# Task #3:\n",
    "# Negate elements in the 2nd column of the array from Tasks 1 whose value is between 6-9, in place.\n"
   ]
  },
  {
   "cell_type": "code",
   "execution_count": null,
   "metadata": {},
   "outputs": [],
   "source": [
    "# Task #4:\n",
    "# Consider the following Python dictionary students and Python list student_ids:\n",
    "# students= { \n",
    "# ‘name’: [‘Harry’, ’Jack’, ’Charlie’, ’Thomas’, James’, ’Olivia’, ’Emily’, ’Jessica’, ’Oscar’, ’Mary’], \n",
    "# ‘grade’ : [5,6,9,7,10,8,6,7,9,8], \n",
    "# ‘attendance’ : [10,45,85,90,np.nan,87,30,np.nan,100,65], \n",
    "# ‘dl’ : [true,false,false,false,true,true,false,false,false,true]} \n",
    "\n",
    "\n",
    "# student_ids = [‘423’,’334’,’546’,’224’,’867’,’989’,’178’,’879’,’113’,’555’]\n",
    "\n",
    "\n",
    "# NOTE: “dl” stands for distance learning\n",
    "\n",
    "# a) Create a DataFrame df from this dictionary students which has the index student_ids.\n",
    "\n",
    "# b) Display a summary of the basic information about this DataFrame and its data.\n",
    "\n",
    "# c) Return the first 3 rows of the DataFrame df.\n",
    "\n",
    "# d) Select just grade and dl columns from df DataFrame.\n",
    "\n",
    "# e) Select the data in rows [5,7,9] and columns [grade, attendance].\n",
    "\n",
    "# f) Select rows where attendance is greater than 70.\n",
    "\n",
    "# g) Select the rows where the attendance is missing, i.e. is NaN.\n",
    "\n",
    "# j) Select distance learning students where the grade is greater than 7.\n",
    "\n",
    "# k) Find the mean grade and attendance of all students.\n",
    "\n",
    "# l) Find student with greatest grade and student with lowest attendance\n",
    "\n"
   ]
  },
  {
   "cell_type": "code",
   "execution_count": null,
   "metadata": {},
   "outputs": [],
   "source": [
    "# Task #5:\n",
    "# Using the random_text.txt file (available on LMS), write a program in Python for the following tasks:\n",
    "# Extract all phone numbers from the random text and add them to the list phoneNumbers.\n",
    "# Extract all emails with the “.com” extension and add them to the list emails. (ex. …@hotmail.com should be accepted, but …@ibu.edu.ba should be rejected)\n"
   ]
  }
 ],
 "metadata": {
  "interpreter": {
   "hash": "31f2aee4e71d21fbe5cf8b01ff0e069b9275f58929596ceb00d14d90e3e16cd6"
  },
  "kernelspec": {
   "display_name": "Python 3.8.10 64-bit",
   "language": "python",
   "name": "python3"
  },
  "language_info": {
   "codemirror_mode": {
    "name": "ipython",
    "version": 3
   },
   "file_extension": ".py",
   "mimetype": "text/x-python",
   "name": "python",
   "nbconvert_exporter": "python",
   "pygments_lexer": "ipython3",
   "version": "3.8.10"
  },
  "orig_nbformat": 4
 },
 "nbformat": 4,
 "nbformat_minor": 2
}
