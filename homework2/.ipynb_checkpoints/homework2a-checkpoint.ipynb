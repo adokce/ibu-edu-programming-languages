{
 "cells": [
  {
   "cell_type": "code",
   "execution_count": 2,
   "metadata": {},
   "outputs": [
    {
     "data": {
      "text/plain": [
       "5"
      ]
     },
     "execution_count": 2,
     "metadata": {},
     "output_type": "execute_result"
    }
   ],
   "source": []
  },
  {
   "cell_type": "code",
   "execution_count": 10,
   "metadata": {},
   "outputs": [
    {
     "data": {
      "text/plain": [
       "array([[8, 8, 5, 3, 8, 8],\n",
       "       [4, 6, 5, 8, 9, 8],\n",
       "       [1, 8, 3, 5, 3, 9],\n",
       "       [4, 2, 9, 5, 8, 2]])"
      ]
     },
     "execution_count": 10,
     "metadata": {},
     "output_type": "execute_result"
    }
   ],
   "source": [
    "# Task #1:\n",
    "# Create a 2D numpy array containing random numbers in range 1 to 10 organized in 4 rows and 6 columns.\n",
    "\n",
    "import numpy as np\n",
    "arr1 = np.random.randint(low=1,high=10,size=(4,6))\n",
    "arr1\n"
   ]
  },
  {
   "cell_type": "code",
   "execution_count": 18,
   "metadata": {},
   "outputs": [
    {
     "data": {
      "text/plain": [
       "5.333333333333333"
      ]
     },
     "execution_count": 18,
     "metadata": {},
     "output_type": "execute_result"
    }
   ],
   "source": [
    "# Task #2:\n",
    "# Find the mean value of the last 2 rows and last 3 columns of the array from Task 1.\n",
    "\n",
    "\n",
    "arr2 = arr1[-2:,-3:]\n",
    "arr2mean = arr2.mean()\n",
    "\n",
    "arr2mean\n"
   ]
  },
  {
   "cell_type": "code",
   "execution_count": 12,
   "metadata": {},
   "outputs": [
    {
     "name": "stdout",
     "output_type": "stream",
     "text": [
      "[[ 8 -8  5  3  8  8]\n",
      " [ 4  6  5  8  9  8]\n",
      " [ 1 -8  3  5  3  9]\n",
      " [ 4  2  9  5  8  2]]\n"
     ]
    }
   ],
   "source": [
    "# Task #3:\n",
    "# Negate elements in the 2nd column of the array from Task 1 \n",
    "# whose value is between 6-9, in place.\n",
    "\n",
    "# secondColumn= arr1[:,1]\n",
    "# indexesToNegate=np.where((secondColumn >6) & (secondColumn<9))\n",
    "# secondColumn[indexesToNegate] *= -1\n",
    "\n",
    "arr1[:,1][np.where((arr1[:,1]>6) & (arr1[:,1]<9) )] *= -1\n",
    "\n",
    "print(arr1)"
   ]
  },
  {
   "cell_type": "code",
   "execution_count": 28,
   "metadata": {},
   "outputs": [],
   "source": [
    "# Task #4:\n",
    "# Consider the following Python dictionary students and Python list student_ids:\n",
    "\n",
    "# NOTE: “dl” stands for distance learning\n",
    "\n",
    "students= { \n",
    "'name': [\"Harry\", \"Jack\", \"Charlie\", \"Thomas\", \"James\", \"Olivia\", \"Emily\", \"Jessica\", \"Oscar\", \"Mary\"], \n",
    "'grade' : [5,6,9,7,10,8,6,7,9,8], \n",
    "'attendance' : [10,45,85,90,np.nan,87,30,np.nan,100,65], \n",
    "'dl' : [True,False,False,False,True,True,False,False,False,True]\n",
    "} \n",
    "\n",
    "student_ids = [423,334,546,224,867,989,178,879,113,555]\n",
    "\n",
    "import pandas as pd"
   ]
  },
  {
   "cell_type": "code",
   "execution_count": 44,
   "metadata": {
    "scrolled": true
   },
   "outputs": [
    {
     "data": {
      "text/html": [
       "<div>\n",
       "<style scoped>\n",
       "    .dataframe tbody tr th:only-of-type {\n",
       "        vertical-align: middle;\n",
       "    }\n",
       "\n",
       "    .dataframe tbody tr th {\n",
       "        vertical-align: top;\n",
       "    }\n",
       "\n",
       "    .dataframe thead th {\n",
       "        text-align: right;\n",
       "    }\n",
       "</style>\n",
       "<table border=\"1\" class=\"dataframe\">\n",
       "  <thead>\n",
       "    <tr style=\"text-align: right;\">\n",
       "      <th></th>\n",
       "      <th>name</th>\n",
       "      <th>grade</th>\n",
       "      <th>attendance</th>\n",
       "      <th>dl</th>\n",
       "    </tr>\n",
       "  </thead>\n",
       "  <tbody>\n",
       "    <tr>\n",
       "      <th>423</th>\n",
       "      <td>Harry</td>\n",
       "      <td>5</td>\n",
       "      <td>10.0</td>\n",
       "      <td>True</td>\n",
       "    </tr>\n",
       "    <tr>\n",
       "      <th>334</th>\n",
       "      <td>Jack</td>\n",
       "      <td>6</td>\n",
       "      <td>45.0</td>\n",
       "      <td>False</td>\n",
       "    </tr>\n",
       "    <tr>\n",
       "      <th>546</th>\n",
       "      <td>Charlie</td>\n",
       "      <td>9</td>\n",
       "      <td>85.0</td>\n",
       "      <td>False</td>\n",
       "    </tr>\n",
       "    <tr>\n",
       "      <th>224</th>\n",
       "      <td>Thomas</td>\n",
       "      <td>7</td>\n",
       "      <td>90.0</td>\n",
       "      <td>False</td>\n",
       "    </tr>\n",
       "    <tr>\n",
       "      <th>867</th>\n",
       "      <td>James</td>\n",
       "      <td>10</td>\n",
       "      <td>NaN</td>\n",
       "      <td>True</td>\n",
       "    </tr>\n",
       "    <tr>\n",
       "      <th>989</th>\n",
       "      <td>Olivia</td>\n",
       "      <td>8</td>\n",
       "      <td>87.0</td>\n",
       "      <td>True</td>\n",
       "    </tr>\n",
       "    <tr>\n",
       "      <th>178</th>\n",
       "      <td>Emily</td>\n",
       "      <td>6</td>\n",
       "      <td>30.0</td>\n",
       "      <td>False</td>\n",
       "    </tr>\n",
       "    <tr>\n",
       "      <th>879</th>\n",
       "      <td>Jessica</td>\n",
       "      <td>7</td>\n",
       "      <td>NaN</td>\n",
       "      <td>False</td>\n",
       "    </tr>\n",
       "    <tr>\n",
       "      <th>113</th>\n",
       "      <td>Oscar</td>\n",
       "      <td>9</td>\n",
       "      <td>100.0</td>\n",
       "      <td>False</td>\n",
       "    </tr>\n",
       "    <tr>\n",
       "      <th>555</th>\n",
       "      <td>Mary</td>\n",
       "      <td>8</td>\n",
       "      <td>65.0</td>\n",
       "      <td>True</td>\n",
       "    </tr>\n",
       "  </tbody>\n",
       "</table>\n",
       "</div>"
      ],
      "text/plain": [
       "        name  grade  attendance     dl\n",
       "423    Harry      5        10.0   True\n",
       "334     Jack      6        45.0  False\n",
       "546  Charlie      9        85.0  False\n",
       "224   Thomas      7        90.0  False\n",
       "867    James     10         NaN   True\n",
       "989   Olivia      8        87.0   True\n",
       "178    Emily      6        30.0  False\n",
       "879  Jessica      7         NaN  False\n",
       "113    Oscar      9       100.0  False\n",
       "555     Mary      8        65.0   True"
      ]
     },
     "execution_count": 44,
     "metadata": {},
     "output_type": "execute_result"
    }
   ],
   "source": [
    "# a) Create a DataFrame df from this dictionary students which has the index student_ids.\n",
    "\n",
    "df = pd.DataFrame(students, index=student_ids)\n",
    "\n",
    "df\n"
   ]
  },
  {
   "cell_type": "code",
   "execution_count": 45,
   "metadata": {
    "scrolled": true
   },
   "outputs": [
    {
     "data": {
      "text/html": [
       "<div>\n",
       "<style scoped>\n",
       "    .dataframe tbody tr th:only-of-type {\n",
       "        vertical-align: middle;\n",
       "    }\n",
       "\n",
       "    .dataframe tbody tr th {\n",
       "        vertical-align: top;\n",
       "    }\n",
       "\n",
       "    .dataframe thead th {\n",
       "        text-align: right;\n",
       "    }\n",
       "</style>\n",
       "<table border=\"1\" class=\"dataframe\">\n",
       "  <thead>\n",
       "    <tr style=\"text-align: right;\">\n",
       "      <th></th>\n",
       "      <th>grade</th>\n",
       "      <th>attendance</th>\n",
       "    </tr>\n",
       "  </thead>\n",
       "  <tbody>\n",
       "    <tr>\n",
       "      <th>count</th>\n",
       "      <td>10.000000</td>\n",
       "      <td>8.000000</td>\n",
       "    </tr>\n",
       "    <tr>\n",
       "      <th>mean</th>\n",
       "      <td>7.500000</td>\n",
       "      <td>64.000000</td>\n",
       "    </tr>\n",
       "    <tr>\n",
       "      <th>std</th>\n",
       "      <td>1.581139</td>\n",
       "      <td>32.460966</td>\n",
       "    </tr>\n",
       "    <tr>\n",
       "      <th>min</th>\n",
       "      <td>5.000000</td>\n",
       "      <td>10.000000</td>\n",
       "    </tr>\n",
       "    <tr>\n",
       "      <th>25%</th>\n",
       "      <td>6.250000</td>\n",
       "      <td>41.250000</td>\n",
       "    </tr>\n",
       "    <tr>\n",
       "      <th>50%</th>\n",
       "      <td>7.500000</td>\n",
       "      <td>75.000000</td>\n",
       "    </tr>\n",
       "    <tr>\n",
       "      <th>75%</th>\n",
       "      <td>8.750000</td>\n",
       "      <td>87.750000</td>\n",
       "    </tr>\n",
       "    <tr>\n",
       "      <th>max</th>\n",
       "      <td>10.000000</td>\n",
       "      <td>100.000000</td>\n",
       "    </tr>\n",
       "  </tbody>\n",
       "</table>\n",
       "</div>"
      ],
      "text/plain": [
       "           grade  attendance\n",
       "count  10.000000    8.000000\n",
       "mean    7.500000   64.000000\n",
       "std     1.581139   32.460966\n",
       "min     5.000000   10.000000\n",
       "25%     6.250000   41.250000\n",
       "50%     7.500000   75.000000\n",
       "75%     8.750000   87.750000\n",
       "max    10.000000  100.000000"
      ]
     },
     "execution_count": 45,
     "metadata": {},
     "output_type": "execute_result"
    }
   ],
   "source": [
    "# b) Display a summary of the basic information about this DataFrame and its data.\n",
    "dfb = df.describe()\n",
    "dfb"
   ]
  },
  {
   "cell_type": "code",
   "execution_count": 36,
   "metadata": {},
   "outputs": [
    {
     "data": {
      "text/html": [
       "<div>\n",
       "<style scoped>\n",
       "    .dataframe tbody tr th:only-of-type {\n",
       "        vertical-align: middle;\n",
       "    }\n",
       "\n",
       "    .dataframe tbody tr th {\n",
       "        vertical-align: top;\n",
       "    }\n",
       "\n",
       "    .dataframe thead th {\n",
       "        text-align: right;\n",
       "    }\n",
       "</style>\n",
       "<table border=\"1\" class=\"dataframe\">\n",
       "  <thead>\n",
       "    <tr style=\"text-align: right;\">\n",
       "      <th></th>\n",
       "      <th>name</th>\n",
       "      <th>grade</th>\n",
       "      <th>attendance</th>\n",
       "      <th>dl</th>\n",
       "    </tr>\n",
       "  </thead>\n",
       "  <tbody>\n",
       "    <tr>\n",
       "      <th>423</th>\n",
       "      <td>Harry</td>\n",
       "      <td>5</td>\n",
       "      <td>10.0</td>\n",
       "      <td>True</td>\n",
       "    </tr>\n",
       "    <tr>\n",
       "      <th>334</th>\n",
       "      <td>Jack</td>\n",
       "      <td>6</td>\n",
       "      <td>45.0</td>\n",
       "      <td>False</td>\n",
       "    </tr>\n",
       "    <tr>\n",
       "      <th>546</th>\n",
       "      <td>Charlie</td>\n",
       "      <td>9</td>\n",
       "      <td>85.0</td>\n",
       "      <td>False</td>\n",
       "    </tr>\n",
       "  </tbody>\n",
       "</table>\n",
       "</div>"
      ],
      "text/plain": [
       "        name  grade  attendance     dl\n",
       "423    Harry      5        10.0   True\n",
       "334     Jack      6        45.0  False\n",
       "546  Charlie      9        85.0  False"
      ]
     },
     "execution_count": 36,
     "metadata": {},
     "output_type": "execute_result"
    }
   ],
   "source": [
    "# c) Return the first 3 rows of the DataFrame df.\n",
    "dfc = df[:3]\n",
    "dfc"
   ]
  },
  {
   "cell_type": "code",
   "execution_count": 42,
   "metadata": {
    "scrolled": false
   },
   "outputs": [
    {
     "data": {
      "text/html": [
       "<div>\n",
       "<style scoped>\n",
       "    .dataframe tbody tr th:only-of-type {\n",
       "        vertical-align: middle;\n",
       "    }\n",
       "\n",
       "    .dataframe tbody tr th {\n",
       "        vertical-align: top;\n",
       "    }\n",
       "\n",
       "    .dataframe thead th {\n",
       "        text-align: right;\n",
       "    }\n",
       "</style>\n",
       "<table border=\"1\" class=\"dataframe\">\n",
       "  <thead>\n",
       "    <tr style=\"text-align: right;\">\n",
       "      <th></th>\n",
       "      <th>grade</th>\n",
       "      <th>dl</th>\n",
       "    </tr>\n",
       "  </thead>\n",
       "  <tbody>\n",
       "    <tr>\n",
       "      <th>423</th>\n",
       "      <td>5</td>\n",
       "      <td>True</td>\n",
       "    </tr>\n",
       "    <tr>\n",
       "      <th>334</th>\n",
       "      <td>6</td>\n",
       "      <td>False</td>\n",
       "    </tr>\n",
       "    <tr>\n",
       "      <th>546</th>\n",
       "      <td>9</td>\n",
       "      <td>False</td>\n",
       "    </tr>\n",
       "    <tr>\n",
       "      <th>224</th>\n",
       "      <td>7</td>\n",
       "      <td>False</td>\n",
       "    </tr>\n",
       "    <tr>\n",
       "      <th>867</th>\n",
       "      <td>10</td>\n",
       "      <td>True</td>\n",
       "    </tr>\n",
       "    <tr>\n",
       "      <th>989</th>\n",
       "      <td>8</td>\n",
       "      <td>True</td>\n",
       "    </tr>\n",
       "    <tr>\n",
       "      <th>178</th>\n",
       "      <td>6</td>\n",
       "      <td>False</td>\n",
       "    </tr>\n",
       "    <tr>\n",
       "      <th>879</th>\n",
       "      <td>7</td>\n",
       "      <td>False</td>\n",
       "    </tr>\n",
       "    <tr>\n",
       "      <th>113</th>\n",
       "      <td>9</td>\n",
       "      <td>False</td>\n",
       "    </tr>\n",
       "    <tr>\n",
       "      <th>555</th>\n",
       "      <td>8</td>\n",
       "      <td>True</td>\n",
       "    </tr>\n",
       "  </tbody>\n",
       "</table>\n",
       "</div>"
      ],
      "text/plain": [
       "     grade     dl\n",
       "423      5   True\n",
       "334      6  False\n",
       "546      9  False\n",
       "224      7  False\n",
       "867     10   True\n",
       "989      8   True\n",
       "178      6  False\n",
       "879      7  False\n",
       "113      9  False\n",
       "555      8   True"
      ]
     },
     "execution_count": 42,
     "metadata": {},
     "output_type": "execute_result"
    }
   ],
   "source": [
    "# d) Select just grade and dl columns from df DataFrame.\n",
    "dfd = df[['grade', 'dl']]\n",
    "dfd"
   ]
  },
  {
   "cell_type": "code",
   "execution_count": 57,
   "metadata": {},
   "outputs": [
    {
     "name": "stdout",
     "output_type": "stream",
     "text": [
      "        name  grade  attendance     dl\n",
      "423    Harry      5        10.0   True\n",
      "334     Jack      6        45.0  False\n",
      "546  Charlie      9        85.0  False\n",
      "224   Thomas      7        90.0  False\n",
      "867    James     10         NaN   True\n",
      "989   Olivia      8        87.0   True\n",
      "178    Emily      6        30.0  False\n",
      "879  Jessica      7         NaN  False\n",
      "113    Oscar      9       100.0  False\n",
      "555     Mary      8        65.0   True\n",
      " \n",
      "        name  grade  attendance     dl\n",
      "989   Olivia      8        87.0   True\n",
      "879  Jessica      7         NaN  False\n",
      "555     Mary      8        65.0   True\n"
     ]
    }
   ],
   "source": [
    "# e) Select the data in rows [5,7,9] and columns [grade, attendance].\n",
    "# dfe = df[['grade','attendance']]\n",
    "\n",
    "dfe = df[5:10:2]\n",
    "\n",
    "print(df)\n",
    "\n",
    "print(' ')\n",
    "\n",
    "print(dfe)"
   ]
  },
  {
   "cell_type": "code",
   "execution_count": 61,
   "metadata": {},
   "outputs": [
    {
     "data": {
      "text/html": [
       "<div>\n",
       "<style scoped>\n",
       "    .dataframe tbody tr th:only-of-type {\n",
       "        vertical-align: middle;\n",
       "    }\n",
       "\n",
       "    .dataframe tbody tr th {\n",
       "        vertical-align: top;\n",
       "    }\n",
       "\n",
       "    .dataframe thead th {\n",
       "        text-align: right;\n",
       "    }\n",
       "</style>\n",
       "<table border=\"1\" class=\"dataframe\">\n",
       "  <thead>\n",
       "    <tr style=\"text-align: right;\">\n",
       "      <th></th>\n",
       "      <th>name</th>\n",
       "      <th>grade</th>\n",
       "      <th>attendance</th>\n",
       "      <th>dl</th>\n",
       "    </tr>\n",
       "  </thead>\n",
       "  <tbody>\n",
       "    <tr>\n",
       "      <th>989</th>\n",
       "      <td>Olivia</td>\n",
       "      <td>8</td>\n",
       "      <td>87.0</td>\n",
       "      <td>True</td>\n",
       "    </tr>\n",
       "  </tbody>\n",
       "</table>\n",
       "</div>"
      ],
      "text/plain": [
       "       name  grade  attendance    dl\n",
       "989  Olivia      8        87.0  True"
      ]
     },
     "execution_count": 61,
     "metadata": {},
     "output_type": "execute_result"
    }
   ],
   "source": [
    "# f) Select rows where attendance is greater than 70.\n",
    "\n",
    "dff = df[df['attendance']>70]\n",
    "dff"
   ]
  },
  {
   "cell_type": "code",
   "execution_count": 59,
   "metadata": {},
   "outputs": [
    {
     "data": {
      "text/html": [
       "<div>\n",
       "<style scoped>\n",
       "    .dataframe tbody tr th:only-of-type {\n",
       "        vertical-align: middle;\n",
       "    }\n",
       "\n",
       "    .dataframe tbody tr th {\n",
       "        vertical-align: top;\n",
       "    }\n",
       "\n",
       "    .dataframe thead th {\n",
       "        text-align: right;\n",
       "    }\n",
       "</style>\n",
       "<table border=\"1\" class=\"dataframe\">\n",
       "  <thead>\n",
       "    <tr style=\"text-align: right;\">\n",
       "      <th></th>\n",
       "      <th>name</th>\n",
       "      <th>grade</th>\n",
       "      <th>attendance</th>\n",
       "      <th>dl</th>\n",
       "    </tr>\n",
       "  </thead>\n",
       "  <tbody>\n",
       "    <tr>\n",
       "      <th>867</th>\n",
       "      <td>James</td>\n",
       "      <td>10</td>\n",
       "      <td>NaN</td>\n",
       "      <td>True</td>\n",
       "    </tr>\n",
       "    <tr>\n",
       "      <th>879</th>\n",
       "      <td>Jessica</td>\n",
       "      <td>7</td>\n",
       "      <td>NaN</td>\n",
       "      <td>False</td>\n",
       "    </tr>\n",
       "  </tbody>\n",
       "</table>\n",
       "</div>"
      ],
      "text/plain": [
       "        name  grade  attendance     dl\n",
       "867    James     10         NaN   True\n",
       "879  Jessica      7         NaN  False"
      ]
     },
     "execution_count": 59,
     "metadata": {},
     "output_type": "execute_result"
    }
   ],
   "source": [
    "# g) Select the rows where the attendance is missing, i.e. is NaN.\n",
    "\n",
    "dfg = df[df['attendance'].isnull()]\n",
    "dfg"
   ]
  },
  {
   "cell_type": "code",
   "execution_count": 62,
   "metadata": {},
   "outputs": [
    {
     "data": {
      "text/html": [
       "<div>\n",
       "<style scoped>\n",
       "    .dataframe tbody tr th:only-of-type {\n",
       "        vertical-align: middle;\n",
       "    }\n",
       "\n",
       "    .dataframe tbody tr th {\n",
       "        vertical-align: top;\n",
       "    }\n",
       "\n",
       "    .dataframe thead th {\n",
       "        text-align: right;\n",
       "    }\n",
       "</style>\n",
       "<table border=\"1\" class=\"dataframe\">\n",
       "  <thead>\n",
       "    <tr style=\"text-align: right;\">\n",
       "      <th></th>\n",
       "      <th>name</th>\n",
       "      <th>grade</th>\n",
       "      <th>attendance</th>\n",
       "      <th>dl</th>\n",
       "    </tr>\n",
       "  </thead>\n",
       "  <tbody>\n",
       "    <tr>\n",
       "      <th>867</th>\n",
       "      <td>James</td>\n",
       "      <td>10</td>\n",
       "      <td>NaN</td>\n",
       "      <td>True</td>\n",
       "    </tr>\n",
       "    <tr>\n",
       "      <th>989</th>\n",
       "      <td>Olivia</td>\n",
       "      <td>8</td>\n",
       "      <td>87.0</td>\n",
       "      <td>True</td>\n",
       "    </tr>\n",
       "    <tr>\n",
       "      <th>555</th>\n",
       "      <td>Mary</td>\n",
       "      <td>8</td>\n",
       "      <td>65.0</td>\n",
       "      <td>True</td>\n",
       "    </tr>\n",
       "  </tbody>\n",
       "</table>\n",
       "</div>"
      ],
      "text/plain": [
       "       name  grade  attendance    dl\n",
       "867   James     10         NaN  True\n",
       "989  Olivia      8        87.0  True\n",
       "555    Mary      8        65.0  True"
      ]
     },
     "execution_count": 62,
     "metadata": {},
     "output_type": "execute_result"
    }
   ],
   "source": [
    "# j) Select distance learning students where the grade is greater than 7.\n",
    "\n",
    "dfj = df[(df['dl']==True) & (df['grade']>7)]\n",
    "dfj"
   ]
  },
  {
   "cell_type": "code",
   "execution_count": 67,
   "metadata": {},
   "outputs": [
    {
     "data": {
      "text/plain": [
       "423     10.0\n",
       "334     45.0\n",
       "546     85.0\n",
       "224     90.0\n",
       "867      NaN\n",
       "989     87.0\n",
       "178     30.0\n",
       "879      NaN\n",
       "113    100.0\n",
       "555     65.0\n",
       "Name: attendance, dtype: float64"
      ]
     },
     "execution_count": 67,
     "metadata": {},
     "output_type": "execute_result"
    }
   ],
   "source": [
    "# k) Find the mean grade and attendance of all students.\n",
    "\n",
    "dfk_mean_grade = df['grade'].mean()\n",
    "print(dfk_mean_grade)\n",
    "\n",
    "print('')\n",
    "\n",
    "dfk_attendance = df['attendance']\n",
    "print(dfk_attendance)"
   ]
  },
  {
   "cell_type": "code",
   "execution_count": null,
   "metadata": {},
   "outputs": [],
   "source": [
    "# l) Find student with greatest grade and student with lowest attendance"
   ]
  },
  {
   "cell_type": "code",
   "execution_count": null,
   "metadata": {},
   "outputs": [],
   "source": [
    "# Task #5:\n",
    "# Using the random_text.txt file (available on LMS), write a program in Python for the following tasks:\n",
    "# Extract all phone numbers from the random text and add them to the list phoneNumbers.\n",
    "# Extract all emails with the “.com” extension and add them to the list emails. (ex. …@hotmail.com should be accepted, but …@ibu.edu.ba should be rejected)\n"
   ]
  }
 ],
 "metadata": {
  "interpreter": {
   "hash": "31f2aee4e71d21fbe5cf8b01ff0e069b9275f58929596ceb00d14d90e3e16cd6"
  },
  "kernelspec": {
   "display_name": "Python 3",
   "language": "python",
   "name": "python3"
  },
  "language_info": {
   "codemirror_mode": {
    "name": "ipython",
    "version": 3
   },
   "file_extension": ".py",
   "mimetype": "text/x-python",
   "name": "python",
   "nbconvert_exporter": "python",
   "pygments_lexer": "ipython3",
   "version": "3.8.8"
  }
 },
 "nbformat": 4,
 "nbformat_minor": 2
}
